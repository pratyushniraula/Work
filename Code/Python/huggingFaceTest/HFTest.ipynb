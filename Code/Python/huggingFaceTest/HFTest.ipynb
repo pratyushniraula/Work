{
 "cells": [
  {
   "cell_type": "code",
   "execution_count": null,
   "metadata": {},
   "outputs": [],
   "source": [
    "from huggingface_hub import notebook_login\n",
    "\n",
    "notebook_login()"
   ]
  },
  {
   "cell_type": "code",
   "execution_count": 8,
   "metadata": {},
   "outputs": [
    {
     "name": "stdout",
     "output_type": "stream",
     "text": [
      "Predicted answer: 0\n"
     ]
    }
   ],
   "source": [
    "from transformers import ViltProcessor, ViltForQuestionAnswering\n",
    "import requests\n",
    "from PIL import Image\n",
    "\n",
    "\n",
    "# prepare image + question\n",
    "url = \"http://images.cocodataset.org/val2017/000000039769.jpg\"\n",
    "#image = Image.open(requests.get(url, stream=True).raw)\n",
    "image = Image.open(\"dog.jpg\")\n",
    "text = \"How many cats are there?\"\n",
    "\n",
    "processor = ViltProcessor.from_pretrained(\"dandelin/vilt-b32-finetuned-vqa\")\n",
    "model = ViltForQuestionAnswering.from_pretrained(\"dandelin/vilt-b32-finetuned-vqa\")\n",
    "\n",
    "# prepare inputs\n",
    "encoding = processor(image, text, return_tensors=\"pt\")\n",
    "\n",
    "# forward pass\n",
    "outputs = model(**encoding)\n",
    "logits = outputs.logits\n",
    "idx = logits.argmax(-1).item()\n",
    "print(\"Predicted answer:\", model.config.id2label[idx])"
   ]
  },
  {
   "cell_type": "code",
   "execution_count": 7,
   "metadata": {},
   "outputs": [
    {
     "name": "stderr",
     "output_type": "stream",
     "text": [
      "Could not find image processor class in the image processor config or the model config. Loading based on pattern matching with the model's feature extractor configuration.\n"
     ]
    }
   ],
   "source": [
    "# Use a pipeline as a high-level helper\n",
    "from transformers import pipeline, ViltForQuestionAnswering, ViltFeatureExtractor\n",
    "\n",
    "pipe = pipeline(\"visual-question-answering\", model=\"dandelin/vilt-b32-finetuned-vqa\")\n"
   ]
  },
  {
   "cell_type": "code",
   "execution_count": 5,
   "metadata": {},
   "outputs": [
    {
     "ename": "ImportError",
     "evalue": "cannot import name 'ViltForVisualQuestionAnswering' from 'transformers' (/opt/homebrew/lib/python3.11/site-packages/transformers/__init__.py)",
     "output_type": "error",
     "traceback": [
      "\u001b[0;31m---------------------------------------------------------------------------\u001b[0m",
      "\u001b[0;31mImportError\u001b[0m                               Traceback (most recent call last)",
      "\u001b[1;32m/Users/pratyushniraula/Documents/Work/Code/Python/huggingFaceTest/HFTest.ipynb Cell 4\u001b[0m line \u001b[0;36m2\n\u001b[1;32m      <a href='vscode-notebook-cell:/Users/pratyushniraula/Documents/Work/Code/Python/huggingFaceTest/HFTest.ipynb#W3sZmlsZQ%3D%3D?line=0'>1</a>\u001b[0m \u001b[39m# Load model directly\u001b[39;00m\n\u001b[0;32m----> <a href='vscode-notebook-cell:/Users/pratyushniraula/Documents/Work/Code/Python/huggingFaceTest/HFTest.ipynb#W3sZmlsZQ%3D%3D?line=1'>2</a>\u001b[0m \u001b[39mfrom\u001b[39;00m \u001b[39mtransformers\u001b[39;00m \u001b[39mimport\u001b[39;00m AutoProcessor, ViltForVisualQuestionAnswering\n\u001b[1;32m      <a href='vscode-notebook-cell:/Users/pratyushniraula/Documents/Work/Code/Python/huggingFaceTest/HFTest.ipynb#W3sZmlsZQ%3D%3D?line=3'>4</a>\u001b[0m processor \u001b[39m=\u001b[39m AutoProcessor\u001b[39m.\u001b[39mfrom_pretrained(\u001b[39m\"\u001b[39m\u001b[39mdandelin/vilt-b32-finetuned-vqa\u001b[39m\u001b[39m\"\u001b[39m)\n\u001b[1;32m      <a href='vscode-notebook-cell:/Users/pratyushniraula/Documents/Work/Code/Python/huggingFaceTest/HFTest.ipynb#W3sZmlsZQ%3D%3D?line=4'>5</a>\u001b[0m model \u001b[39m=\u001b[39m ViltForVisualQuestionAnswering\u001b[39m.\u001b[39mfrom_pretrained(\u001b[39m\"\u001b[39m\u001b[39mdandelin/vilt-b32-finetuned-vqa\u001b[39m\u001b[39m\"\u001b[39m)\n",
      "\u001b[0;31mImportError\u001b[0m: cannot import name 'ViltForVisualQuestionAnswering' from 'transformers' (/opt/homebrew/lib/python3.11/site-packages/transformers/__init__.py)"
     ]
    }
   ],
   "source": [
    "# Load model directly\n",
    "from transformers import AutoProcessor, ViltForVisualQuestionAnswering\n",
    "\n",
    "processor = AutoProcessor.from_pretrained(\"dandelin/vilt-b32-finetuned-vqa\")\n",
    "model = ViltForVisualQuestionAnswering.from_pretrained(\"dandelin/vilt-b32-finetuned-vqa\")"
   ]
  }
 ],
 "metadata": {
  "kernelspec": {
   "display_name": "Python 3",
   "language": "python",
   "name": "python3"
  },
  "language_info": {
   "codemirror_mode": {
    "name": "ipython",
    "version": 3
   },
   "file_extension": ".py",
   "mimetype": "text/x-python",
   "name": "python",
   "nbconvert_exporter": "python",
   "pygments_lexer": "ipython3",
   "version": "3.11.3"
  }
 },
 "nbformat": 4,
 "nbformat_minor": 2
}
